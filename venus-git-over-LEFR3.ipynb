{
 "cells": [
  {
   "attachments": {},
   "cell_type": "markdown",
   "metadata": {},
   "source": [
    "This notebook demonstrates how to query the STAC API and return an xarray. The query returns a large number of images within a time window, and these are used to create a GIF which shows activity at a mining site (LEFR3)"
   ]
  },
  {
   "cell_type": "code",
   "execution_count": 1,
   "metadata": {},
   "outputs": [],
   "source": [
    "import shapely.geometry\n",
    "from IPython.display import display\n",
    "from pystac_client import Client\n",
    "import numpy as np\n",
    "import matplotlib.pyplot as plt\n",
    "import xarray as xr\n",
    "import geopandas as gpd\n",
    "from PIL import Image, ImageDraw, ImageFont\n",
    "import os\n",
    "from glob import glob\n",
    "from odc.stac import configure_rio, stac_load\n",
    "import requests\n",
    "import json\n",
    "import re\n",
    "import pandas as pd\n",
    "from dotenv import load_dotenv\n",
    "import boto3\n",
    "import io\n",
    "from urllib.parse import urlparse\n",
    "import seaborn as sns\n",
    "from matplotlib.dates import DateFormatter\n",
    "import matplotlib.dates as mdates\n",
    "\n",
    "os.environ['AWS_NO_SIGN_REQUEST'] = 'YES'"
   ]
  },
  {
   "cell_type": "code",
   "execution_count": 2,
   "metadata": {},
   "outputs": [],
   "source": [
    "# Uncomment to run dask cluster\n",
    "# import dask.distributed\n",
    "\n",
    "# client = dask.distributed.Client()\n",
    "# configure_rio(cloud_defaults=True, aws={\"aws_unsigned\": True}, client=client)\n",
    "# display(client)"
   ]
  },
  {
   "attachments": {},
   "cell_type": "markdown",
   "metadata": {},
   "source": [
    "Authenticate with the STAC API, if you get an error check your credentials in `.env`"
   ]
  },
  {
   "cell_type": "code",
   "execution_count": 3,
   "metadata": {},
   "outputs": [
    {
     "name": "stderr",
     "output_type": "stream",
     "text": [
      "/home/codespace/.local/lib/python3.10/site-packages/urllib3/connectionpool.py:1095: InsecureRequestWarning: Unverified HTTPS request is being made to host 'core-earthdaily.auth.us-east-1.amazoncognito.com'. Adding certificate verification is strongly advised. See: https://urllib3.readthedocs.io/en/latest/advanced-usage.html#tls-warnings\n",
      "  warnings.warn(\n"
     ]
    }
   ],
   "source": [
    "load_dotenv()  # take environment variables from .env.\n",
    "\n",
    "def get_new_token():\n",
    "    auth_server_url = os.getenv(\"EDS_AUTH_URL\")\n",
    "    client_id = os.getenv(\"EDS_CLIENT_ID\")\n",
    "    client_secret = os.getenv(\"EDS_SECRET\")\n",
    "    token_req_payload = {'grant_type': 'client_credentials'}\n",
    "\n",
    "    token_response = requests.post(\n",
    "        auth_server_url,\n",
    "        data=token_req_payload,\n",
    "        verify=False,\n",
    "        allow_redirects=False,\n",
    "        auth=(client_id, client_secret)\n",
    "    )\n",
    "    token_response.raise_for_status()\n",
    "\n",
    "    tokens = json.loads(token_response.text)\n",
    "    return tokens['access_token']\n",
    "\n",
    "token = get_new_token()\n",
    "\n",
    "catalog = Client.open(os.getenv(\"EDS_API_URL\"), headers={\n",
    "    \"Authorization\": f\"bearer {token}\"\n",
    "})"
   ]
  },
  {
   "cell_type": "markdown",
   "metadata": {},
   "source": [
    "# Now select mission & catalogue\n",
    "Edit the cell below to select between \"S2\" or \"VENUS\""
   ]
  },
  {
   "cell_type": "code",
   "execution_count": 4,
   "metadata": {},
   "outputs": [],
   "source": [
    "SATELLITE = \"VENUS\" # \"S2\" or \"VENUS\"\n",
    "\n",
    "if SATELLITE == \"S2\":\n",
    "    COLLECTION = \"sentinel-s2-l2a\"\n",
    "    BANDS = (\"B04\", \"B03\", \"B02\")\n",
    "\n",
    "elif SATELLITE == \"VENUS\":\n",
    "    COLLECTION = \"venus-l2a\"\n",
    "    BANDS = (\"red\", \"green\", \"blue\", ) # \"nir08\", \"rededge\", \"yellow\", \"coastal\""
   ]
  },
  {
   "cell_type": "markdown",
   "metadata": {},
   "source": [
    "Setup location to save generated data"
   ]
  },
  {
   "cell_type": "code",
   "execution_count": 5,
   "metadata": {},
   "outputs": [
    {
     "name": "stdout",
     "output_type": "stream",
     "text": [
      "Using VENUS data from stac-fastapi\n",
      "Writing outputs to outputs_LEFR3_VENUS/\n"
     ]
    }
   ],
   "source": [
    "SITE = \"LEFR3\" # site name in this tutorial\n",
    "\n",
    "OUTPUTS_DIR = f\"outputs_{SITE}_{SATELLITE}/\" # location where the output files will be saved\n",
    "if not os.path.exists(OUTPUTS_DIR):\n",
    "    os.makedirs(OUTPUTS_DIR)\n",
    "\n",
    "EMPTY_OUTPUTS_DIR = True # set to True to delete all files in OUTPUTS_DIR before running the notebook\n",
    "if EMPTY_OUTPUTS_DIR:\n",
    "    for f in glob(OUTPUTS_DIR + \"*\"):\n",
    "        os.remove(f)\n",
    "\n",
    "print(f\"Using {SATELLITE} data from {catalog.description}\")\n",
    "print(f\"Writing outputs to {OUTPUTS_DIR}\")"
   ]
  },
  {
   "attachments": {},
   "cell_type": "markdown",
   "metadata": {},
   "source": [
    "### Leafmap\n",
    "This method requires having the URL for one of the COGS - get the url for the B1 band from the EDA catalogue\n",
    "\n",
    "- Not displaying for some reason"
   ]
  },
  {
   "cell_type": "code",
   "execution_count": 6,
   "metadata": {},
   "outputs": [
    {
     "data": {
      "application/vnd.jupyter.widget-view+json": {
       "model_id": "d5e90649c05041d4a16bead2d56146d1",
       "version_major": 2,
       "version_minor": 0
      },
      "text/plain": [
       "Map(center=[20, 0], controls=(ZoomControl(options=['position', 'zoom_in_text', 'zoom_in_title', 'zoom_out_text…"
      ]
     },
     "execution_count": 6,
     "metadata": {},
     "output_type": "execute_result"
    }
   ],
   "source": [
    "import leafmap\n",
    "\n",
    "Map = leafmap.Map()\n",
    "image_file_FRE_B1 = \"s3://venus-l2a-cogs/LEFR3/2020/10/08/VENUS-XS_20201008-020631-000_L2A_LEFR3_D/VENUS-XS_20201008-020631-000_L2A_LEFR3_C_V3-0_FRE_B1.tif\"\n",
    "\n",
    "Map.add_cog_layer(image_file_FRE_B1, name=SITE)\n",
    "\n",
    "Map"
   ]
  },
  {
   "cell_type": "markdown",
   "metadata": {},
   "source": [
    "Draw an ROI on the map above or use the default"
   ]
  },
  {
   "cell_type": "code",
   "execution_count": 8,
   "metadata": {},
   "outputs": [
    {
     "name": "stdout",
     "output_type": "stream",
     "text": [
      "Did not draw a polygon using the rectangle tool, using default\n"
     ]
    },
    {
     "data": {
      "text/plain": [
       "{'type': 'Feature',\n",
       " 'properties': {},\n",
       " 'geometry': {'type': 'Polygon',\n",
       "  'coordinates': [[[121.735811, -31.309868],\n",
       "    [121.735811, -31.293184],\n",
       "    [121.763749, -31.293184],\n",
       "    [121.763749, -31.309868],\n",
       "    [121.735811, -31.309868]]]}}"
      ]
     },
     "execution_count": 8,
     "metadata": {},
     "output_type": "execute_result"
    }
   ],
   "source": [
    "ROI = Map.user_roi\n",
    "if not ROI:\n",
    "    print(\"Did not draw a polygon using the rectangle tool, using default\")\n",
    "\n",
    "    ROI = {'type': 'Feature',\n",
    " 'properties': {},\n",
    " 'geometry': {'type': 'Polygon',\n",
    "  'coordinates': [[[121.735811, -31.309868],\n",
    "    [121.735811, -31.293184],\n",
    "    [121.763749, -31.293184],\n",
    "    [121.763749, -31.309868],\n",
    "    [121.735811, -31.309868]]]}}\n",
    "\n",
    "ROI"
   ]
  },
  {
   "cell_type": "code",
   "execution_count": 10,
   "metadata": {},
   "outputs": [
    {
     "name": "stdout",
     "output_type": "stream",
     "text": [
      "(121.735811, -31.309868, 121.763749, -31.293184)\n"
     ]
    }
   ],
   "source": [
    "def get_bounds_polygon_dict(polygon_dict: dict) -> tuple:\n",
    "    gdf = gpd.GeoDataFrame.from_features([polygon_dict])\n",
    "    polygon = gdf.geometry.iloc[0]\n",
    "    bounds = polygon.bounds\n",
    "    return bounds\n",
    "\n",
    "bbox = get_bounds_polygon_dict(ROI)\n",
    "print(bbox)"
   ]
  },
  {
   "attachments": {},
   "cell_type": "markdown",
   "metadata": {},
   "source": [
    "## STAC query\n",
    "Set your remaining filter parameters and perform the query"
   ]
  },
  {
   "cell_type": "code",
   "execution_count": 11,
   "metadata": {},
   "outputs": [
    {
     "name": "stdout",
     "output_type": "stream",
     "text": [
      "Found: 195 datasets\n"
     ]
    }
   ],
   "source": [
    "# Set a start and end date\n",
    "start_date = \"2015-01-01\"\n",
    "end_date = \"2023-06-01\"\n",
    "max_clouds = 30 # the maximum cloud cover percentage. Note this is over the WHOLE image, not just the ROI\n",
    "\n",
    "query = catalog.search(\n",
    "    collections=[COLLECTION], \n",
    "    datetime=f\"{start_date}/{end_date}\",\n",
    "    bbox=bbox,\n",
    "    query={\"eo:cloud_cover\":{\"lt\":max_clouds}},\n",
    ")\n",
    "\n",
    "items = list(query.get_items())\n",
    "print(f\"Found: {len(items):d} datasets\")"
   ]
  },
  {
   "attachments": {},
   "cell_type": "markdown",
   "metadata": {},
   "source": [
    "Get timerange of dataset"
   ]
  },
  {
   "cell_type": "code",
   "execution_count": 12,
   "metadata": {},
   "outputs": [
    {
     "name": "stdout",
     "output_type": "stream",
     "text": [
      "2017-11-29 02:10:59 to 2020-10-20 02:06:06\n",
      "Time window: 1055 days 23:55:07\n"
     ]
    }
   ],
   "source": [
    "all_dt = []\n",
    "for item in items:\n",
    "    dt = item.to_dict()['properties']['datetime']\n",
    "    dt = pd.to_datetime(dt) # .strftime(\"%Y-%m-%d-%H-%M-%S\")\n",
    "    all_dt.append(dt)\n",
    "\n",
    "all_dt = sorted(all_dt)\n",
    "min_date = min(all_dt)\n",
    "max_date = max(all_dt)\n",
    "\n",
    "min_date_str = min_date.strftime(\"%Y-%m-%d %H:%M:%S\")\n",
    "max_date_str = max_date.strftime(\"%Y-%m-%d %H:%M:%S\")\n",
    "date_range = f\"{min_date_str} to {max_date_str}\"\n",
    "print(date_range)\n",
    "\n",
    "time_window = max_date - min_date\n",
    "print(f\"Time window: {time_window}\")"
   ]
  },
  {
   "cell_type": "code",
   "execution_count": 13,
   "metadata": {},
   "outputs": [
    {
     "data": {
      "image/png": "[encoded data removed]",
      "text/plain": [
       "<Figure size 600x400 with 2 Axes>"
      ]
     },
     "metadata": {},
     "output_type": "display_data"
    }
   ],
   "source": [
    "# Create a DataFrame\n",
    "df = pd.DataFrame(all_dt, columns=['Datetime'])\n",
    "\n",
    "# Extract date and time\n",
    "df['Date'] = df['Datetime'].dt.date\n",
    "df['Time'] = df['Datetime'].dt.time\n",
    "\n",
    "fig, ax = plt.subplots(2, 1, figsize=(6, 4))\n",
    "\n",
    "# Date distribution (Histogram)\n",
    "sns.histplot(df['Date'], ax=ax[0])\n",
    "ax[0].xaxis.set_major_formatter(mdates.DateFormatter('%Y-%m-%d'))\n",
    "ax[0].xaxis.set_major_locator(mdates.DayLocator(interval=5))  # adjust as needed\n",
    "plt.setp(ax[0].xaxis.get_majorticklabels(), rotation=45)\n",
    "ax[0].set_title('Date Distribution')\n",
    "\n",
    "# Time distribution (Histogram)\n",
    "df['Time'].apply(lambda x: x.hour).plot(kind='hist', rwidth=0.9, ax=ax[1])\n",
    "ax[1].set_title('Hour Distribution')\n",
    "ax[1].set_xlabel('Hour of the day')\n",
    "\n",
    "plt.tight_layout()\n",
    "plt.show()"
   ]
  },
  {
   "attachments": {},
   "cell_type": "markdown",
   "metadata": {},
   "source": [
    "We now use `stac_load` to retrieve an [xarray](https://docs.xarray.dev/en/stable/) dataset using the `items` returned by the STAC query"
   ]
  },
  {
   "cell_type": "code",
   "execution_count": 14,
   "metadata": {},
   "outputs": [
    {
     "name": "stderr",
     "output_type": "stream",
     "text": [
      "Aborting load due to failure while reading: s3://venus-l2a-cogs/LEFR3/2020/10/20/VENUS-XS_20201020-020606-000_L2A_LEFR3_D/VENUS-XS_20201020-020606-000_L2A_LEFR3_C_V3-0_FRE_B7.tif:1\n"
     ]
    },
    {
     "ename": "RasterioIOError",
     "evalue": "AWS_SECRET_ACCESS_KEY and AWS_NO_SIGN_REQUEST configuration options not defined, and /home/codespace/.aws/credentials not filled",
     "output_type": "error",
     "traceback": [
      "\u001b[0;31m---------------------------------------------------------------------------\u001b[0m",
      "\u001b[0;31mCPLE_AWSInvalidCredentialsError\u001b[0m           Traceback (most recent call last)",
      "File \u001b[0;32mrasterio/_base.pyx:310\u001b[0m, in \u001b[0;36mrasterio._base.DatasetBase.__init__\u001b[0;34m()\u001b[0m\n",
      "File \u001b[0;32mrasterio/_base.pyx:221\u001b[0m, in \u001b[0;36mrasterio._base.open_dataset\u001b[0;34m()\u001b[0m\n",
      "File \u001b[0;32mrasterio/_err.pyx:221\u001b[0m, in \u001b[0;36mrasterio._err.exc_wrap_pointer\u001b[0;34m()\u001b[0m\n",
      "\u001b[0;31mCPLE_AWSInvalidCredentialsError\u001b[0m: AWS_SECRET_ACCESS_KEY and AWS_NO_SIGN_REQUEST configuration options not defined, and /home/codespace/.aws/credentials not filled",
      "\nDuring handling of the above exception, another exception occurred:\n",
      "\u001b[0;31mRasterioIOError\u001b[0m                           Traceback (most recent call last)",
      "\u001b[1;32m/workspaces/eda-bids-hackathon-prep/venus-git-over-LEFR3.ipynb Cell 21\u001b[0m line \u001b[0;36m1\n\u001b[0;32m----> <a href='vscode-notebook-cell://codespaces%2Bverbose-fiesta-pjj9xj449rr36654/workspaces/eda-bids-hackathon-prep/venus-git-over-LEFR3.ipynb#X25sdnNjb2RlLXJlbW90ZQ%3D%3D?line=0'>1</a>\u001b[0m dataset \u001b[39m=\u001b[39m stac_load(\n\u001b[1;32m      <a href='vscode-notebook-cell://codespaces%2Bverbose-fiesta-pjj9xj449rr36654/workspaces/eda-bids-hackathon-prep/venus-git-over-LEFR3.ipynb#X25sdnNjb2RlLXJlbW90ZQ%3D%3D?line=1'>2</a>\u001b[0m     items,\n\u001b[1;32m      <a href='vscode-notebook-cell://codespaces%2Bverbose-fiesta-pjj9xj449rr36654/workspaces/eda-bids-hackathon-prep/venus-git-over-LEFR3.ipynb#X25sdnNjb2RlLXJlbW90ZQ%3D%3D?line=2'>3</a>\u001b[0m     bands\u001b[39m=\u001b[39;49m(\u001b[39m\"\u001b[39;49m\u001b[39mred\u001b[39;49m\u001b[39m\"\u001b[39;49m, \u001b[39m\"\u001b[39;49m\u001b[39mgreen\u001b[39;49m\u001b[39m\"\u001b[39;49m, \u001b[39m\"\u001b[39;49m\u001b[39mblue\u001b[39;49m\u001b[39m\"\u001b[39;49m),\n\u001b[1;32m      <a href='vscode-notebook-cell://codespaces%2Bverbose-fiesta-pjj9xj449rr36654/workspaces/eda-bids-hackathon-prep/venus-git-over-LEFR3.ipynb#X25sdnNjb2RlLXJlbW90ZQ%3D%3D?line=3'>4</a>\u001b[0m     crs\u001b[39m=\u001b[39;49m\u001b[39m\"\u001b[39;49m\u001b[39mepsg:3857\u001b[39;49m\u001b[39m\"\u001b[39;49m, \u001b[39m# since resolution is in metres, we need to use a projected CRS\u001b[39;49;00m\n\u001b[1;32m      <a href='vscode-notebook-cell://codespaces%2Bverbose-fiesta-pjj9xj449rr36654/workspaces/eda-bids-hackathon-prep/venus-git-over-LEFR3.ipynb#X25sdnNjb2RlLXJlbW90ZQ%3D%3D?line=4'>5</a>\u001b[0m     resolution\u001b[39m=\u001b[39;49m\u001b[39m5\u001b[39;49m, \u001b[39m# the reoslution of the output image in metres\u001b[39;49;00m\n\u001b[1;32m      <a href='vscode-notebook-cell://codespaces%2Bverbose-fiesta-pjj9xj449rr36654/workspaces/eda-bids-hackathon-prep/venus-git-over-LEFR3.ipynb#X25sdnNjb2RlLXJlbW90ZQ%3D%3D?line=5'>6</a>\u001b[0m     \u001b[39m# chunks={},  # Uncomment if using dask cluster\u001b[39;49;00m\n\u001b[1;32m      <a href='vscode-notebook-cell://codespaces%2Bverbose-fiesta-pjj9xj449rr36654/workspaces/eda-bids-hackathon-prep/venus-git-over-LEFR3.ipynb#X25sdnNjb2RlLXJlbW90ZQ%3D%3D?line=6'>7</a>\u001b[0m     groupby\u001b[39m=\u001b[39;49m\u001b[39m\"\u001b[39;49m\u001b[39mid\u001b[39;49m\u001b[39m\"\u001b[39;49m,\n\u001b[1;32m      <a href='vscode-notebook-cell://codespaces%2Bverbose-fiesta-pjj9xj449rr36654/workspaces/eda-bids-hackathon-prep/venus-git-over-LEFR3.ipynb#X25sdnNjb2RlLXJlbW90ZQ%3D%3D?line=7'>8</a>\u001b[0m     bbox\u001b[39m=\u001b[39;49mbbox,\n\u001b[1;32m      <a href='vscode-notebook-cell://codespaces%2Bverbose-fiesta-pjj9xj449rr36654/workspaces/eda-bids-hackathon-prep/venus-git-over-LEFR3.ipynb#X25sdnNjb2RlLXJlbW90ZQ%3D%3D?line=8'>9</a>\u001b[0m )\n\u001b[1;32m     <a href='vscode-notebook-cell://codespaces%2Bverbose-fiesta-pjj9xj449rr36654/workspaces/eda-bids-hackathon-prep/venus-git-over-LEFR3.ipynb#X25sdnNjb2RlLXJlbW90ZQ%3D%3D?line=10'>11</a>\u001b[0m display(dataset)\n",
      "File \u001b[0;32m~/.python/current/lib/python3.10/site-packages/odc/stac/_load.py:633\u001b[0m, in \u001b[0;36mload\u001b[0;34m(items, bands, groupby, resampling, dtype, chunks, pool, crs, resolution, anchor, geobox, bbox, lon, lat, x, y, like, geopolygon, progress, fail_on_error, stac_cfg, patch_url, preserve_original_order, **kw)\u001b[0m\n\u001b[1;32m    630\u001b[0m \u001b[39mif\u001b[39;00m progress \u001b[39mis\u001b[39;00m \u001b[39mnot\u001b[39;00m \u001b[39mNone\u001b[39;00m:\n\u001b[1;32m    631\u001b[0m     _work \u001b[39m=\u001b[39m progress(SizedIterable(_work, total_tasks))\n\u001b[0;32m--> 633\u001b[0m \u001b[39mfor\u001b[39;00m _ \u001b[39min\u001b[39;00m _work:\n\u001b[1;32m    634\u001b[0m     \u001b[39mpass\u001b[39;00m\n\u001b[1;32m    636\u001b[0m \u001b[39mreturn\u001b[39;00m _with_debug_info(ds, tasks\u001b[39m=\u001b[39m_tasks)\n",
      "File \u001b[0;32m~/.python/current/lib/python3.10/site-packages/odc/stac/_utils.py:38\u001b[0m, in \u001b[0;36mpmap\u001b[0;34m(func, inputs, pool)\u001b[0m\n\u001b[1;32m     34\u001b[0m \u001b[39m\u001b[39m\u001b[39m\"\"\"\u001b[39;00m\n\u001b[1;32m     35\u001b[0m \u001b[39mWrapper for ThreadPoolExecutor.map\u001b[39;00m\n\u001b[1;32m     36\u001b[0m \u001b[39m\"\"\"\u001b[39;00m\n\u001b[1;32m     37\u001b[0m \u001b[39mif\u001b[39;00m pool \u001b[39mis\u001b[39;00m \u001b[39mNone\u001b[39;00m:\n\u001b[0;32m---> 38\u001b[0m     \u001b[39myield from\u001b[39;00m \u001b[39mmap\u001b[39m(func, inputs)\n\u001b[1;32m     39\u001b[0m     \u001b[39mreturn\u001b[39;00m\n\u001b[1;32m     41\u001b[0m \u001b[39mif\u001b[39;00m \u001b[39misinstance\u001b[39m(pool, \u001b[39mint\u001b[39m):\n",
      "File \u001b[0;32m~/.python/current/lib/python3.10/site-packages/odc/stac/_load.py:624\u001b[0m, in \u001b[0;36mload.<locals>._do_one\u001b[0;34m(task)\u001b[0m\n\u001b[1;32m    618\u001b[0m srcs \u001b[39m=\u001b[39m [\n\u001b[1;32m    619\u001b[0m     src\n\u001b[1;32m    620\u001b[0m     \u001b[39mfor\u001b[39;00m src \u001b[39min\u001b[39;00m (_parsed[idx]\u001b[39m.\u001b[39mget(band, \u001b[39mNone\u001b[39;00m) \u001b[39mfor\u001b[39;00m idx, band \u001b[39min\u001b[39;00m task\u001b[39m.\u001b[39msrcs)\n\u001b[1;32m    621\u001b[0m     \u001b[39mif\u001b[39;00m src \u001b[39mis\u001b[39;00m \u001b[39mnot\u001b[39;00m \u001b[39mNone\u001b[39;00m\n\u001b[1;32m    622\u001b[0m ]\n\u001b[1;32m    623\u001b[0m \u001b[39mwith\u001b[39;00m rio_env(\u001b[39m*\u001b[39m\u001b[39m*\u001b[39m_rio_env):\n\u001b[0;32m--> 624\u001b[0m     _ \u001b[39m=\u001b[39m _fill_2d_slice(srcs, task\u001b[39m.\u001b[39;49mdst_gbox, task\u001b[39m.\u001b[39;49mcfg, dst_slice)\n\u001b[1;32m    625\u001b[0m t, y, x \u001b[39m=\u001b[39m task\u001b[39m.\u001b[39midx_tyx\n\u001b[1;32m    626\u001b[0m \u001b[39mreturn\u001b[39;00m (task\u001b[39m.\u001b[39mband, t, y, x)\n",
      "File \u001b[0;32m~/.python/current/lib/python3.10/site-packages/odc/stac/_load.py:723\u001b[0m, in \u001b[0;36m_fill_2d_slice\u001b[0;34m(srcs, dst_gbox, cfg, dst)\u001b[0m\n\u001b[1;32m    720\u001b[0m     \u001b[39mreturn\u001b[39;00m dst\n\u001b[1;32m    722\u001b[0m src, \u001b[39m*\u001b[39mrest \u001b[39m=\u001b[39m srcs\n\u001b[0;32m--> 723\u001b[0m _roi, pix \u001b[39m=\u001b[39m rio_read(src, cfg, dst_gbox, dst\u001b[39m=\u001b[39;49mdst)\n\u001b[1;32m    725\u001b[0m \u001b[39mfor\u001b[39;00m src \u001b[39min\u001b[39;00m rest:\n\u001b[1;32m    726\u001b[0m     \u001b[39m# first valid pixel takes precedence over others\u001b[39;00m\n\u001b[1;32m    727\u001b[0m     _roi, pix \u001b[39m=\u001b[39m rio_read(src, cfg, dst_gbox)\n",
      "File \u001b[0;32m~/.python/current/lib/python3.10/site-packages/odc/stac/_reader.py:194\u001b[0m, in \u001b[0;36mrio_read\u001b[0;34m(src, cfg, dst_geobox, dst)\u001b[0m\n\u001b[1;32m    188\u001b[0m     \u001b[39mif\u001b[39;00m cfg\u001b[39m.\u001b[39mfail_on_error:\n\u001b[1;32m    189\u001b[0m         log\u001b[39m.\u001b[39merror(\n\u001b[1;32m    190\u001b[0m             \u001b[39m\"\u001b[39m\u001b[39mAborting load due to failure while reading: \u001b[39m\u001b[39m%s\u001b[39;00m\u001b[39m:\u001b[39m\u001b[39m%d\u001b[39;00m\u001b[39m\"\u001b[39m,\n\u001b[1;32m    191\u001b[0m             src\u001b[39m.\u001b[39muri,\n\u001b[1;32m    192\u001b[0m             src\u001b[39m.\u001b[39mband,\n\u001b[1;32m    193\u001b[0m         )\n\u001b[0;32m--> 194\u001b[0m         \u001b[39mraise\u001b[39;00m e\n\u001b[1;32m    196\u001b[0m \u001b[39m# Failed to read, but asked to continue\u001b[39;00m\n\u001b[1;32m    197\u001b[0m log\u001b[39m.\u001b[39mwarning(\u001b[39m\"\u001b[39m\u001b[39mIgnoring read failure while reading: \u001b[39m\u001b[39m%s\u001b[39;00m\u001b[39m:\u001b[39m\u001b[39m%d\u001b[39;00m\u001b[39m\"\u001b[39m, src\u001b[39m.\u001b[39muri, src\u001b[39m.\u001b[39mband)\n",
      "File \u001b[0;32m~/.python/current/lib/python3.10/site-packages/odc/stac/_reader.py:186\u001b[0m, in \u001b[0;36mrio_read\u001b[0;34m(src, cfg, dst_geobox, dst)\u001b[0m\n\u001b[1;32m    163\u001b[0m \u001b[39m\u001b[39m\u001b[39m\"\"\"\u001b[39;00m\n\u001b[1;32m    164\u001b[0m \u001b[39mInternal read method.\u001b[39;00m\n\u001b[1;32m    165\u001b[0m \n\u001b[0;32m   (...)\u001b[0m\n\u001b[1;32m    182\u001b[0m \n\u001b[1;32m    183\u001b[0m \u001b[39m\"\"\"\u001b[39;00m\n\u001b[1;32m    185\u001b[0m \u001b[39mtry\u001b[39;00m:\n\u001b[0;32m--> 186\u001b[0m     \u001b[39mreturn\u001b[39;00m _rio_read(src, cfg, dst_geobox, dst)\n\u001b[1;32m    187\u001b[0m \u001b[39mexcept\u001b[39;00m rasterio\u001b[39m.\u001b[39merrors\u001b[39m.\u001b[39mRasterioIOError \u001b[39mas\u001b[39;00m e:\n\u001b[1;32m    188\u001b[0m     \u001b[39mif\u001b[39;00m cfg\u001b[39m.\u001b[39mfail_on_error:\n",
      "File \u001b[0;32m~/.python/current/lib/python3.10/site-packages/odc/stac/_reader.py:219\u001b[0m, in \u001b[0;36m_rio_read\u001b[0;34m(src, cfg, dst_geobox, dst)\u001b[0m\n\u001b[1;32m    209\u001b[0m \u001b[39mdef\u001b[39;00m \u001b[39m_rio_read\u001b[39m(\n\u001b[1;32m    210\u001b[0m     src: RasterSource,\n\u001b[1;32m    211\u001b[0m     cfg: RasterLoadParams,\n\u001b[0;32m   (...)\u001b[0m\n\u001b[1;32m    215\u001b[0m     \u001b[39m# if resampling is `nearest` then ignore sub-pixel translation when deciding\u001b[39;00m\n\u001b[1;32m    216\u001b[0m     \u001b[39m# whether we can just paste source into destination\u001b[39;00m\n\u001b[1;32m    217\u001b[0m     ttol \u001b[39m=\u001b[39m \u001b[39m0.9\u001b[39m \u001b[39mif\u001b[39;00m cfg\u001b[39m.\u001b[39mnearest \u001b[39melse\u001b[39;00m \u001b[39m0.05\u001b[39m\n\u001b[0;32m--> 219\u001b[0m     \u001b[39mwith\u001b[39;00m rasterio\u001b[39m.\u001b[39;49mopen(src\u001b[39m.\u001b[39;49muri, \u001b[39m\"\u001b[39;49m\u001b[39mr\u001b[39;49m\u001b[39m\"\u001b[39;49m, sharing\u001b[39m=\u001b[39;49m\u001b[39mFalse\u001b[39;49;00m) \u001b[39mas\u001b[39;00m rdr:\n\u001b[1;32m    220\u001b[0m         \u001b[39massert\u001b[39;00m \u001b[39misinstance\u001b[39m(rdr, rasterio\u001b[39m.\u001b[39mDatasetReader)\n\u001b[1;32m    221\u001b[0m         ovr_idx: Optional[\u001b[39mint\u001b[39m] \u001b[39m=\u001b[39m \u001b[39mNone\u001b[39;00m\n",
      "File \u001b[0;32m~/.python/current/lib/python3.10/site-packages/rasterio/env.py:451\u001b[0m, in \u001b[0;36mensure_env_with_credentials.<locals>.wrapper\u001b[0;34m(*args, **kwds)\u001b[0m\n\u001b[1;32m    448\u001b[0m     session \u001b[39m=\u001b[39m DummySession()\n\u001b[1;32m    450\u001b[0m \u001b[39mwith\u001b[39;00m env_ctor(session\u001b[39m=\u001b[39msession):\n\u001b[0;32m--> 451\u001b[0m     \u001b[39mreturn\u001b[39;00m f(\u001b[39m*\u001b[39;49margs, \u001b[39m*\u001b[39;49m\u001b[39m*\u001b[39;49mkwds)\n",
      "File \u001b[0;32m~/.python/current/lib/python3.10/site-packages/rasterio/__init__.py:304\u001b[0m, in \u001b[0;36mopen\u001b[0;34m(fp, mode, driver, width, height, count, crs, transform, dtype, nodata, sharing, **kwargs)\u001b[0m\n\u001b[1;32m    301\u001b[0m path \u001b[39m=\u001b[39m _parse_path(raw_dataset_path)\n\u001b[1;32m    303\u001b[0m \u001b[39mif\u001b[39;00m mode \u001b[39m==\u001b[39m \u001b[39m\"\u001b[39m\u001b[39mr\u001b[39m\u001b[39m\"\u001b[39m:\n\u001b[0;32m--> 304\u001b[0m     dataset \u001b[39m=\u001b[39m DatasetReader(path, driver\u001b[39m=\u001b[39;49mdriver, sharing\u001b[39m=\u001b[39;49msharing, \u001b[39m*\u001b[39;49m\u001b[39m*\u001b[39;49mkwargs)\n\u001b[1;32m    305\u001b[0m \u001b[39melif\u001b[39;00m mode \u001b[39m==\u001b[39m \u001b[39m\"\u001b[39m\u001b[39mr+\u001b[39m\u001b[39m\"\u001b[39m:\n\u001b[1;32m    306\u001b[0m     dataset \u001b[39m=\u001b[39m get_writer_for_path(path, driver\u001b[39m=\u001b[39mdriver)(\n\u001b[1;32m    307\u001b[0m         path, mode, driver\u001b[39m=\u001b[39mdriver, sharing\u001b[39m=\u001b[39msharing, \u001b[39m*\u001b[39m\u001b[39m*\u001b[39mkwargs\n\u001b[1;32m    308\u001b[0m     )\n",
      "File \u001b[0;32mrasterio/_base.pyx:312\u001b[0m, in \u001b[0;36mrasterio._base.DatasetBase.__init__\u001b[0;34m()\u001b[0m\n",
      "\u001b[0;31mRasterioIOError\u001b[0m: AWS_SECRET_ACCESS_KEY and AWS_NO_SIGN_REQUEST configuration options not defined, and /home/codespace/.aws/credentials not filled"
     ]
    }
   ],
   "source": [
    "dataset = stac_load(\n",
    "    items,\n",
    "    bands=(\"red\", \"green\", \"blue\"),\n",
    "    crs=\"epsg:3857\", # since resolution is in metres, we need to use a projected CRS\n",
    "    resolution=5, # the reoslution of the output image in metres\n",
    "    # chunks={},  # Uncomment if using dask cluster\n",
    "    groupby=\"id\",\n",
    "    bbox=bbox,\n",
    ")\n",
    "\n",
    "display(dataset)"
   ]
  },
  {
   "attachments": {},
   "cell_type": "markdown",
   "metadata": {},
   "source": [
    "Data is loaded lazily if using Dask - call `.compute()` to load the data, this can take minutes if there are many images to load or the bbox is large"
   ]
  },
  {
   "cell_type": "code",
   "execution_count": null,
   "metadata": {},
   "outputs": [],
   "source": [
    "# dataset = dataset.compute()"
   ]
  },
  {
   "attachments": {},
   "cell_type": "markdown",
   "metadata": {},
   "source": [
    "Let's create an RGB image for each timestamp in the `dataset` using [Pillow](https://pillow.readthedocs.io/en/stable/)\n",
    "\n",
    "Each image is written to the `OUTPUTS_DIR`\n",
    "\n",
    "Note that conversion to uint8 will quantize the data in order to reduce the filesize"
   ]
  },
  {
   "cell_type": "code",
   "execution_count": null,
   "metadata": {},
   "outputs": [],
   "source": [
    "%%time\n",
    "def normalise_img(x):\n",
    "    \"Scale pixel values to 0-1 range\"\n",
    "    return x / x.max()\n",
    "\n",
    "for i in range(len(dataset.time)):\n",
    "    ds = dataset.isel(time=i)\n",
    "    dataarray = ds.to_array(\"band\")\n",
    "    date = dataarray.time.values\n",
    "    date = pd.to_datetime(date).strftime(\"%Y-%m-%d\")\n",
    "    rgb_numpy_array = np.transpose(dataarray.values, (1, 2, 0))\n",
    "    rgb_numpy_array = normalise_img(rgb_numpy_array)\n",
    "    Image.fromarray((rgb_numpy_array * 255).astype(np.uint8)).save(OUTPUTS_DIR + f\"{SITE}_{date}.png\")\n",
    "\n",
    "rgb_images = sorted(glob(OUTPUTS_DIR + \"*.png\"))\n",
    "len(rgb_images)"
   ]
  },
  {
   "attachments": {},
   "cell_type": "markdown",
   "metadata": {},
   "source": [
    "Display the first RGB image"
   ]
  },
  {
   "cell_type": "code",
   "execution_count": null,
   "metadata": {},
   "outputs": [],
   "source": [
    "fname = rgb_images[0]\n",
    "print(fname)\n",
    "img = Image.open(fname)\n",
    "img.thumbnail((2200, 2200)) # resizes image in-place for consistent viewing\n",
    "img"
   ]
  },
  {
   "attachments": {},
   "cell_type": "markdown",
   "metadata": {},
   "source": [
    "Write a GIF of all frames"
   ]
  },
  {
   "cell_type": "code",
   "execution_count": null,
   "metadata": {},
   "outputs": [],
   "source": [
    "# Helper function to add the filename text to the image\n",
    "def add_filename_to_image(image, filename, font):\n",
    "    draw = ImageDraw.Draw(image)\n",
    "    text_position = (10, 10)\n",
    "    text_color = (255, 255, 255)\n",
    "    draw.text(text_position, filename, font=font, fill=text_color)\n",
    "    return image\n",
    "\n",
    "def create_gif(input_folder, output_gif, duration=100):\n",
    "    png_files = [f for f in os.listdir(input_folder) if f.endswith(\".png\")]\n",
    "    png_files = sorted(png_files)\n",
    "    first_image = Image.open(os.path.join(input_folder, png_files[0])).convert(\"RGB\") # Load the first image and convert it to RGB mode\n",
    "    images = [] # Create a list to store the rest of the images\n",
    "    font = ImageFont.load_default() # Create a font object for writing the filename\n",
    "    first_image = add_filename_to_image(first_image, png_files[0], font)\n",
    "\n",
    "    # Iterate through the rest of the files, open them, convert to RGB mode, and append to the images list\n",
    "    for file in png_files[1:]:\n",
    "        image = Image.open(os.path.join(input_folder, file)).convert(\"RGB\")\n",
    "        file_id = file.split(\".\")[0]\n",
    "        image_with_filename = add_filename_to_image(image, file_id, font)\n",
    "        images.append(image_with_filename)\n",
    "\n",
    "    # Save the GIF using the save method from the first image\n",
    "    first_image.save(\n",
    "        output_gif,\n",
    "        save_all=True,\n",
    "        append_images=images,\n",
    "        duration=duration,\n",
    "        loop=0,\n",
    "        optimize=True,\n",
    "    )\n",
    "    print(f\"Wrote {output_gif}\")\n",
    "\n",
    "DURATION = len(rgb_images) * 2\n",
    "create_gif(OUTPUTS_DIR, f\"{OUTPUTS_DIR}{SITE}.gif\", duration=DURATION)"
   ]
  },
  {
   "attachments": {},
   "cell_type": "markdown",
   "metadata": {},
   "source": [
    "Open the generated GIF in Chrome to view it."
   ]
  }
 ],
 "metadata": {
  "kernelspec": {
   "display_name": "venv",
   "language": "python",
   "name": "python3"
  },
  "language_info": {
   "codemirror_mode": {
    "name": "ipython",
    "version": 3
   },
   "file_extension": ".py",
   "mimetype": "text/x-python",
   "name": "python",
   "nbconvert_exporter": "python",
   "pygments_lexer": "ipython3",
   "version": "3.10.8"
  },
  "orig_nbformat": 4
 },
 "nbformat": 4,
 "nbformat_minor": 2
}
