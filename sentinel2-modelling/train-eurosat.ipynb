{
 "cells": [
  {
   "cell_type": "markdown",
   "metadata": {},
   "source": [
    "# Chip Classification using EuroSAT - Training\n",
    "\n",
    "This notebook demonstrates training a chip classifier on a Sentinel 2 dataset called [EuroSAT](https://github.com/phelber/EuroSAT). Experiment with the choice of model, hyperparameters and pretrained weights to achieve the best performance you can. Note that using the [wandb logger](https://wandb.ai/) only requires a free account"
   ]
  },
  {
   "cell_type": "markdown",
   "metadata": {},
   "source": [
    "## Environment Setup \n",
    "\n",
    "Refer to README.md for environment setup. "
   ]
  },
  {
   "cell_type": "markdown",
   "metadata": {},
   "source": [
    "### Import and Init Env"
   ]
  },
  {
   "cell_type": "code",
   "execution_count": null,
   "metadata": {},
   "outputs": [],
   "source": [
    "import os\n",
    "\n",
    "# If using LightningAI, change the current working directory to the directory containing this notebook. \n",
    "REPO_DIR = \"/teamspace/studios/this_studio/eda-bids-hackathon-prep/\"  # Adjust as appropriate\n",
    "if os.path.exists(REPO_DIR):\n",
    "    os.chdir(os.path.join(REPO_DIR, \"sentinel2-modelling\"))\n",
    "\n",
    "# If you encounter a warning regarding gdal mising GDAL_DATA, run the following \n",
    "if os.environ.get('CONDA_PREFIX') is not None: \n",
    "    if os.environ.get('GDAL_DATA') is None: \n",
    "        os.environ['GDAL_DATA'] = os.environ[\"CONDA_PREFIX\"] + r\"\\Library\\share\\gdal\"\n",
    "    if os.environ.get('PROJ_LIB') is None: \n",
    "        os.environ['PROJ_LIB'] = os.environ[\"CONDA_PREFIX\"] + r\"\\Library\\share\\proj\""
   ]
  },
  {
   "cell_type": "code",
   "execution_count": null,
   "metadata": {},
   "outputs": [],
   "source": [
    "import os\n",
    "import tempfile\n",
    "from typing import Dict, Optional, Any\n",
    "from glob import glob\n",
    "\n",
    "import torch\n",
    "import torch.nn as nn\n",
    "import torchvision.transforms as T\n",
    "from PIL import Image\n",
    "from torch import Tensor\n",
    "from torch.utils.data import DataLoader\n",
    "\n",
    "from torchgeo.datasets import EuroSAT\n",
    "from torchgeo.datamodules import EuroSATDataModule\n",
    "from torchgeo.transforms import AugmentationSequential, indices\n",
    "from torchgeo.trainers import ClassificationTask\n",
    "from torchgeo.models import ResNet18_Weights, ResNet50_Weights\n",
    "\n",
    "from lightning.pytorch.callbacks import EarlyStopping, ModelCheckpoint\n",
    "from lightning.pytorch import Trainer, seed_everything\n",
    "from lightning.pytorch.loggers import TensorBoardLogger, WandbLogger\n",
    "\n",
    "import lightning\n",
    "print(lightning.__version__)\n",
    "\n",
    "seed_everything(543)\n",
    "device = \"cuda\" if torch.cuda.is_available() else \"cpu\"\n",
    "print(device)\n",
    "\n",
    "# Load EDS credentials from .env file\n",
    "from dotenv import load_dotenv\n",
    "load_dotenv()"
   ]
  },
  {
   "attachments": {},
   "cell_type": "markdown",
   "metadata": {},
   "source": [
    "Experiment with the bands used to train a classifier on Sentinel 2 imagery"
   ]
  },
  {
   "cell_type": "code",
   "execution_count": null,
   "metadata": {},
   "outputs": [],
   "source": [
    "EuroSAT.all_band_names"
   ]
  },
  {
   "cell_type": "code",
   "execution_count": null,
   "metadata": {},
   "outputs": [],
   "source": [
    "EuroSAT.rgb_bands"
   ]
  },
  {
   "cell_type": "code",
   "execution_count": null,
   "metadata": {},
   "outputs": [],
   "source": [
    "BANDS = ('B04', 'B03', 'B02', 'B8A')"
   ]
  },
  {
   "attachments": {},
   "cell_type": "markdown",
   "metadata": {},
   "source": [
    "Experiment with bands, model parameters, pretrained weights etc"
   ]
  },
  {
   "cell_type": "code",
   "execution_count": null,
   "metadata": {},
   "outputs": [],
   "source": [
    "if device == \"cuda\":\n",
    "    batch_size = 128*5 # vary for your GPU\n",
    "    num_workers = 8\n",
    "elif device ==  \"cpu\":\n",
    "    batch_size = 64\n",
    "    num_workers = 0"
   ]
  },
  {
   "cell_type": "markdown",
   "metadata": {},
   "source": [
    "## Dataset Download\n",
    "This is a large dataset to download - download on CPU before switching to GPU"
   ]
  },
  {
   "cell_type": "code",
   "execution_count": null,
   "metadata": {},
   "outputs": [],
   "source": [
    "\n",
    "datamodule = EuroSATDataModule(\n",
    "    batch_size=batch_size, \n",
    "    root=\"data\", \n",
    "    num_workers=num_workers, \n",
    "    bands=BANDS,\n",
    "    download=True,\n",
    ")"
   ]
  },
  {
   "attachments": {},
   "cell_type": "markdown",
   "metadata": {},
   "source": [
    "## Experiment\n",
    "Experiment with the model and pretrained weights -> https://torchgeo.readthedocs.io/en/stable/tutorials/pretrained_weights.html"
   ]
  },
  {
   "cell_type": "code",
   "execution_count": null,
   "metadata": {},
   "outputs": [],
   "source": [
    "task = ClassificationTask(\n",
    "    model=\"resnet18\",\n",
    "    weights=True, # standard Imagenet\n",
    "    # weights=ResNet18_Weights.SENTINEL2_ALL_MOCO, # or try sentinel 2 all bands\n",
    "    # weights=ResNet18_Weights.SENTINEL2_RGB_MOCO, # or try sentinel 2 rgb bands\n",
    "    num_classes=10,\n",
    "    in_channels=len(BANDS),\n",
    "    loss=\"ce\", \n",
    "    patience=6\n",
    ")\n",
    "\n",
    "# tb_logger = TensorBoardLogger(\"tensorboard_logs\", name=\"eurosat\") # if you prefer tensorboard\n",
    "wandb_logger = WandbLogger(\n",
    "    project=\"eurosat\", \n",
    "    name=\"resnet18_imagenet\", \n",
    "    log_model=True, # or 'all' \n",
    "    save_dir = \"wandb_logs\"\n",
    ")\n",
    "\n",
    "trainer = Trainer(\n",
    "    logger=wandb_logger,\n",
    "    min_epochs=5,\n",
    "    max_epochs=25,\n",
    "    enable_model_summary=False, # https://github.com/Lightning-AI/lightning/issues/12233\n",
    ")"
   ]
  },
  {
   "cell_type": "markdown",
   "metadata": {},
   "source": [
    "Note training on CPU on Github, the cell below takes 66m"
   ]
  },
  {
   "cell_type": "code",
   "execution_count": null,
   "metadata": {},
   "outputs": [],
   "source": [
    "trainer.fit(model=task, datamodule=datamodule)"
   ]
  },
  {
   "cell_type": "markdown",
   "metadata": {},
   "source": [
    "Note the cell below raises - ReferenceError: weakly-referenced object no longer exists"
   ]
  },
  {
   "cell_type": "code",
   "execution_count": null,
   "metadata": {},
   "outputs": [],
   "source": [
    "trainer.test(model=task, datamodule=datamodule)"
   ]
  },
  {
   "cell_type": "markdown",
   "metadata": {},
   "source": [
    "Can you beat:\n",
    "```\n",
    "┏━━━━━━━━━━━━━━━━━━━━━━━━━━━┳━━━━━━━━━━━━━━━━━━━━━━━━━━━┓\n",
    "┃        Test metric        ┃       DataLoader 0        ┃\n",
    "┡━━━━━━━━━━━━━━━━━━━━━━━━━━━╇━━━━━━━━━━━━━━━━━━━━━━━━━━━┩\n",
    "│   test_AverageAccuracy    │     0.950072169303894     │\n",
    "│       test_F1Score        │    0.9520370364189148     │\n",
    "│     test_JaccardIndex     │    0.9078730940818787     │\n",
    "│   test_OverallAccuracy    │    0.9520370364189148     │\n",
    "│         test_loss         │    0.16335640847682953\n",
    "```"
   ]
  },
  {
   "cell_type": "code",
   "execution_count": null,
   "metadata": {},
   "outputs": [],
   "source": [
    "wandb_logger.experiment.finish()"
   ]
  },
  {
   "cell_type": "code",
   "execution_count": null,
   "metadata": {},
   "outputs": [],
   "source": []
  }
 ],
 "metadata": {
  "kernelspec": {
   "display_name": "Python 3 (ipykernel)",
   "language": "python",
   "name": "python3"
  },
  "language_info": {
   "codemirror_mode": {
    "name": "ipython",
    "version": 3
   },
   "file_extension": ".py",
   "mimetype": "text/x-python",
   "name": "python",
   "nbconvert_exporter": "python",
   "pygments_lexer": "ipython3",
   "version": "3.10.8"
  },
  "orig_nbformat": 4
 },
 "nbformat": 4,
 "nbformat_minor": 2
}
